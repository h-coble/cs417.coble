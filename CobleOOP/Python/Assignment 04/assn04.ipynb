{
 "cells": [
  {
   "cell_type": "markdown",
   "metadata": {},
   "source": [
    "**Assignment**:  Applying the SOLID Principles in Python\n",
    "\n",
    "For each of the five SOLID principles, provide a example in Python that illustrates the design prinicple.\n",
    "\n",
    "| | Principle |\n",
    "|:-:|-----------|\n",
    "| S | Single Responsibility Principle |\n",
    "| O | Open-Closed Principle |\n",
    "| L | Liskhov Substitution Principle |\n",
    "| I | Interface Segregation Principle |\n",
    "| D | Dependency Inversion Principle |\n",
    "\n",
    "\n",
    "1. S: Single Responsibility Principle"
   ]
  },
  {
   "cell_type": "code",
   "execution_count": null,
   "metadata": {},
   "outputs": [],
   "source": [
    "# file_manager_srp.py\n",
    "from pathlib import Path\n",
    "from zipfile import ZipFile\n",
    "\n",
    "class FileManager:\n",
    "    def __init__(self, filename):\n",
    "        self.path = Path(filename)\n",
    "\n",
    "    def read(self, encoding=\"utf-8\"):\n",
    "        return self.path.read_text(encoding)\n",
    "\n",
    "    def write(self, data, encoding=\"utf-8\"):\n",
    "        self.path.write_text(data, encoding)\n",
    "\n",
    "class ZipFileManager:\n",
    "    def __init__(self, filename):\n",
    "        self.path = Path(filename)\n",
    "\n",
    "    def compress(self):\n",
    "        with ZipFile(self.path.with_suffix(\".zip\"), mode=\"w\") as archive:\n",
    "            archive.write(self.path)\n",
    "\n",
    "    def decompress(self):\n",
    "        with ZipFile(self.path.with_suffix(\".zip\"), mode=\"r\") as archive:\n",
    "            archive.extractall()\n",
    "\n",
    "#Example found at https://realpython.com/solid-principles-python/#single-responsibility-principle-srp\n",
    "\n",
    "#Commentary from student:\n",
    "#FileManager is only intended to Read/Write files, and ZipFileManager is intended to compress and decompress them.\n",
    "#If compress and decompress were methods included in FileManager, it would have multiple responsibilites.\n",
    "#Separating these operations into two classes conforms to the SRP."
   ]
  },
  {
   "cell_type": "markdown",
   "metadata": {},
   "source": [
    "2. O: Open Closed Principle"
   ]
  },
  {
   "cell_type": "code",
   "execution_count": null,
   "metadata": {},
   "outputs": [],
   "source": []
  },
  {
   "cell_type": "markdown",
   "metadata": {},
   "source": [
    "3. Liskov Substitution Priniciple"
   ]
  },
  {
   "cell_type": "code",
   "execution_count": null,
   "metadata": {},
   "outputs": [],
   "source": []
  },
  {
   "cell_type": "markdown",
   "metadata": {},
   "source": [
    "4. Interface Segregation Principle"
   ]
  },
  {
   "cell_type": "code",
   "execution_count": null,
   "metadata": {},
   "outputs": [],
   "source": []
  },
  {
   "cell_type": "markdown",
   "metadata": {},
   "source": [
    "5. Dependency Inversion Principle"
   ]
  },
  {
   "cell_type": "code",
   "execution_count": null,
   "metadata": {},
   "outputs": [],
   "source": []
  }
 ],
 "metadata": {
  "kernelspec": {
   "display_name": "base",
   "language": "python",
   "name": "python3"
  },
  "language_info": {
   "name": "python",
   "version": "3.11.5"
  },
  "orig_nbformat": 4
 },
 "nbformat": 4,
 "nbformat_minor": 2
}
