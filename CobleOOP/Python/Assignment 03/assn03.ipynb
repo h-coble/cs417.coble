{
 "cells": [
  {
   "cell_type": "markdown",
   "id": "63cbc0ea-7cd4-4438-bb32-5b9426d83e09",
   "metadata": {},
   "source": [
    "CS417 Assignment 4: Getting your feet wet in Python\n",
    "---\n",
    "# Instructions\n",
    "Each of the following questions is followed by empty code cell. Add your code for the question to the cell and then execute that cell.  Submit the completed notebook by saving it in your GitHub repository and note in your submission on Blackboard where I can find the file.\n"
   ]
  },
  {
   "cell_type": "markdown",
   "id": "9465d6e4-f49c-438e-9a1d-ccf418e2fed9",
   "metadata": {},
   "source": [
    "## Problem 1 (Easy)\n",
    "Write a word frequency counter: How often does each word\n",
    "  show up in an array of words? Print out a report. (Hint: Use a dictionary to\n",
    "  count of the number of appearances of each word.)"
   ]
  },
  {
   "cell_type": "code",
   "execution_count": 11,
   "id": "366de7f5-8efd-4964-afb2-12734c2142e2",
   "metadata": {},
   "outputs": [
    {
     "name": "stdout",
     "output_type": "stream",
     "text": [
      "Frequency Report:\n",
      "these 1\n",
      "test 2\n",
      "words 3\n",
      "are 1\n",
      "that 1\n",
      "Frequency Report:\n",
      "1 1\n",
      "2 2\n",
      "3 1\n",
      "4 1\n"
     ]
    }
   ],
   "source": [
    "class FreqTable():\n",
    "\n",
    "    def countFrequency(self, listToCount):\n",
    "        wordDict = {}\n",
    "\n",
    "        for word in listToCount:\n",
    "            if word not in wordDict:\n",
    "                wordDict[word]=1\n",
    "            else:\n",
    "                wordDict[word] +=1\n",
    "        return wordDict\n",
    "    \n",
    "    def __init__(self, wordArray):\n",
    "        self.listToCount = wordArray\n",
    "        self.freqTable = self.countFrequency(self.listToCount)\n",
    "    \n",
    "    def printFreqTable(self):\n",
    "        print(\"Frequency Report:\")\n",
    "        for word, count in  self.freqTable.items():\n",
    "            print(f\"{word:} {count}\")\n",
    "    \n",
    "def main():\n",
    "    testArray = [\"these\",\"test\",\"words\",\"are\",\"words\",\"that\",\"test\",\"words\"]\n",
    "    table = FreqTable(testArray)\n",
    "    table.printFreqTable()\n",
    "\n",
    "    testArray = [1,2,3,4,2]\n",
    "    table = FreqTable(testArray)\n",
    "    table.printFreqTable()\n",
    "\n",
    "    return\n",
    "\n",
    "\n",
    "main()\n"
   ]
  },
  {
   "cell_type": "markdown",
   "id": "15b4b2ce-9118-4abb-9bbf-ed787721f87c",
   "metadata": {},
   "source": [
    "## Problem 2 (Easy)\n",
    "Given a month and the day of the week that’s the first of\n",
    "  that month entered as arugments on the command line, write a program\n",
    "  that prints a calendar for the month. (HINT: Remember one of the rules of being Pythonic: *Someone else has already done it*.  Do some research to see if you can find a Python library that will help you with this problem)."
   ]
  },
  {
   "cell_type": "code",
   "execution_count": 10,
   "id": "2b365fa9-c81c-4149-9e8f-eda14255d50c",
   "metadata": {},
   "outputs": [
    {
     "name": "stdout",
     "output_type": "stream",
     "text": [
      "         January 0\n",
      "Mon Tue Wed Thu Fri Sat Sun\n",
      "                      1   2\n",
      "  3   4   5   6   7   8   9\n",
      " 10  11  12  13  14  15  16\n",
      " 17  18  19  20  21  22  23\n",
      " 24  25  26  27  28  29  30\n",
      " 31\n",
      "\n"
     ]
    }
   ],
   "source": [
    "import calendar\n",
    "monthDict ={month: index for index, month in enumerate(calendar.month_abbr) if month}\n",
    "\n",
    "userMonth = input(\"Enter the abbreviated month: \")\n",
    "if userMonth in monthDict:\n",
    "    userMonthInt = monthDict[userMonth]\n",
    "\n",
    "userDay=input(\"Enter the first day of the month: \")\n",
    "\n",
    "dayDict = {day: index for index, day in enumerate(calendar.day_name) if day}\n",
    "if userDay in dayDict:\n",
    "    userDayInt = dayDict[userDay]\n",
    "cal = calendar.TextCalendar(firstweekday=userDayInt)\n",
    "print(cal.formatmonth(2023,userMonthInt,w=3,l=1))\n"
   ]
  },
  {
   "cell_type": "markdown",
   "id": "a7e29bca-2e3e-4cb2-a768-47215582850e",
   "metadata": {},
   "source": [
    "## Problem 3 (Easy)\n",
    "Write a function that counts the the characters in a\n",
    "  string input by the user.  Write a main function that calls this\n",
    "  function and displays the string and number of characters."
   ]
  },
  {
   "cell_type": "code",
   "execution_count": 1,
   "id": "f6189d14-e493-4473-a9cd-bffc9560160c",
   "metadata": {},
   "outputs": [
    {
     "data": {
      "text/plain": [
       "<function __main__.main()>"
      ]
     },
     "execution_count": 1,
     "metadata": {},
     "output_type": "execute_result"
    }
   ],
   "source": [
    "def countCharInString(userString):\n",
    "    return [userString,str(len(userString))]\n",
    "\n",
    "def main():\n",
    "    inputStr=input(\"Enter a string: \")\n",
    "    output = countCharInString(inputStr)\n",
    "    for item in output:\n",
    "        print(item)\n",
    "    return\n",
    "\n",
    "main()"
   ]
  },
  {
   "cell_type": "markdown",
   "id": "d460ad3f",
   "metadata": {},
   "source": [
    "# Problem 4 (Moderate, but Painfully Simple)\n",
    "\n",
    "You are writing a test framework in Python and you need to determine what are the attributes and methods of an object.    Write a function (whose body, if you're careful about it, need only be a single statement) that returns a list of the attributes and methods of an object passed to it as an argument."
   ]
  },
  {
   "cell_type": "code",
   "execution_count": 4,
   "id": "6dcfd557",
   "metadata": {},
   "outputs": [
    {
     "name": "stdout",
     "output_type": "stream",
     "text": [
      "['__class__', '__delattr__', '__dict__', '__dir__', '__doc__', '__eq__', '__format__', '__ge__', '__getattribute__', '__getstate__', '__gt__', '__hash__', '__init__', '__init_subclass__', '__le__', '__lt__', '__module__', '__ne__', '__new__', '__reduce__', '__reduce_ex__', '__repr__', '__setattr__', '__sizeof__', '__str__', '__subclasshook__', '__weakref__', 'address', 'age', 'displayAge', 'displayName', 'name']\n",
      "Hayden\n"
     ]
    }
   ],
   "source": [
    "class Person:\n",
    "    name = \"Hayden\"\n",
    "    age = 23\n",
    "    address = \"Somewhere\"\n",
    "\n",
    "    def displayName(self):\n",
    "        print(self.name)\n",
    "\n",
    "    def displayAge(self):\n",
    "        print(self.age)\n",
    "\n",
    "#Answer to this problem \n",
    "def listAtrAndMethods(objectName):\n",
    "    print(dir(objectName))\n",
    "\n",
    "def main():\n",
    "    me = Person()\n",
    "    listAtrAndMethods(me)\n",
    "\n",
    "    return\n",
    "\n",
    "main()"
   ]
  },
  {
   "cell_type": "markdown",
   "id": "72dc799e",
   "metadata": {},
   "source": [
    "# Problem 5 (Moderate)\n",
    "\n",
    "One can parse a fully-parenthesized in-fix expression using two stacks: an operand stack and an operator stack.   You traverse your way through a string containing such an expression and push numbers onto the operand stack and operators onto the operator stack.   When you see a right parenthsis character,  pop two numbers off of the operand stack and pop an operator off of the operator stack, do the operation (add, subtract, multiply, or divide), and push the result back onto the operand stack.   When you reach the end of the expression string, the number on the top of the operand stack is the result (assuming a correctly formatted expression).\n",
    "\n",
    "Write a function in Python that, given a fully-parenthesized in-fix expression in a string, returns the result of evaluating that expression."
   ]
  },
  {
   "cell_type": "code",
   "execution_count": 20,
   "id": "3a5e579f",
   "metadata": {},
   "outputs": [
    {
     "name": "stdout",
     "output_type": "stream",
     "text": [
      "-3.5\n"
     ]
    }
   ],
   "source": [
    "def evaluate(expression: str):\n",
    "    operandStack = []\n",
    "    operatorStack =[]\n",
    "\n",
    "    #Tempororay values\n",
    "    tempNum = 0\n",
    "    tempNumStr =\"\"\n",
    "\n",
    "    #Flag to get entire number instead of just a digit\n",
    "    lastCharIsDigit = False     \n",
    "\n",
    "    #iterate through expression\n",
    "    for char in expression:\n",
    "\n",
    "        if char in ['+','-','/','*']:\n",
    "            operatorStack.append(char)\n",
    "            if lastCharIsDigit == True:\n",
    "                tempNum=float(tempNumStr)\n",
    "                operandStack.append(tempNum)\n",
    "                tempNum =0\n",
    "                tempNumStr=\"\"\n",
    "                lastCharIsDigit = False\n",
    "\n",
    "        elif char == ')':\n",
    "\n",
    "            #Take string of characters, make an integer\n",
    "            if lastCharIsDigit == True:\n",
    "                tempNum=float(tempNumStr)\n",
    "                operandStack.append(tempNum)\n",
    "                tempNum =0\n",
    "                tempNumStr=\"\"\n",
    "                lastCharIsDigit = False\n",
    "            secondNum = operandStack.pop()\n",
    "            firstNum = operandStack.pop()\n",
    "            operator = operatorStack.pop()\n",
    "\n",
    "            #Perform the correct operation on the numbers\n",
    "            if operator == '+':\n",
    "                tempNum = firstNum + secondNum\n",
    "            elif operator == '-':\n",
    "                tempNum = firstNum - secondNum\n",
    "            elif operator == '/':\n",
    "                tempNum = firstNum/secondNum\n",
    "            elif operator == '*':\n",
    "                tempNum = firstNum*secondNum\n",
    "\n",
    "            #Push the resulting value to stack and continue\n",
    "            operandStack.append(tempNum)\n",
    "\n",
    "        elif char.isdigit() or char =='.':\n",
    "            #Append to string of digits and set flag\n",
    "            tempNumStr += char\n",
    "            lastCharIsDigit = True\n",
    "            \n",
    "    return operandStack.pop()\n",
    "    \n",
    "print(evaluate(\"((((2 + 3) * 5)/4)-(1+2.5))\"))"
   ]
  }
 ],
 "metadata": {
  "kernelspec": {
   "display_name": "Python 3.10.6 64-bit",
   "language": "python",
   "name": "python3"
  },
  "language_info": {
   "codemirror_mode": {
    "name": "ipython",
    "version": 3
   },
   "file_extension": ".py",
   "mimetype": "text/x-python",
   "name": "python",
   "nbconvert_exporter": "python",
   "pygments_lexer": "ipython3",
   "version": "3.11.4"
  },
  "vscode": {
   "interpreter": {
    "hash": "b0fa6594d8f4cbf19f97940f81e996739fb7646882a419484c72d19e05852a7e"
   }
  }
 },
 "nbformat": 4,
 "nbformat_minor": 5
}
